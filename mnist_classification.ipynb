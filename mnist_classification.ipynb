{
  "nbformat": 4,
  "nbformat_minor": 0,
  "metadata": {
    "colab": {
      "provenance": [],
      "gpuType": "T4"
    },
    "kernelspec": {
      "name": "python3",
      "display_name": "Python 3"
    },
    "language_info": {
      "name": "python"
    },
    "accelerator": "GPU"
  },
  "cells": [
    {
      "cell_type": "code",
      "execution_count": null,
      "metadata": {
        "id": "f8Gs79y_NdtM"
      },
      "outputs": [],
      "source": [
        "import tensorflow\n",
        "from tensorflow import keras\n",
        "from tensorflow.keras import Sequential\n",
        "from tensorflow.keras.layers import Dense, Flatten\n",
        "import matplotlib.pyplot as plt\n",
        "import numpy as np\n",
        "import pandas as pd"
      ]
    },
    {
      "cell_type": "code",
      "source": [
        "#  to load the data\n",
        "from keras.datasets import mnist\n",
        "(train_x,train_y),(test_x,test_y)=mnist.load_data()"
      ],
      "metadata": {
        "id": "N_Jmn-6bOODw",
        "colab": {
          "base_uri": "https://localhost:8080/"
        },
        "outputId": "3939a384-87d6-400f-9389-7e3e4a69111b"
      },
      "execution_count": null,
      "outputs": [
        {
          "output_type": "stream",
          "name": "stdout",
          "text": [
            "Downloading data from https://storage.googleapis.com/tensorflow/tf-keras-datasets/mnist.npz\n",
            "11490434/11490434 [==============================] - 0s 0us/step\n"
          ]
        }
      ]
    },
    {
      "cell_type": "code",
      "source": [
        "print(f\"Train Dataset :{train_x.shape}\")\n",
        "print(f\"Test Dataset :{test_x.shape}\")\n",
        "print(f\"Train Label :{train_y.shape}\")\n",
        "print(f\"Test Label :{test_y.shape}\")\n"
      ],
      "metadata": {
        "colab": {
          "base_uri": "https://localhost:8080/"
        },
        "id": "TvII1gOUO10p",
        "outputId": "e1fdc771-69da-4e54-8f08-22cff148eb9d"
      },
      "execution_count": null,
      "outputs": [
        {
          "output_type": "stream",
          "name": "stdout",
          "text": [
            "Train Dataset :(60000, 28, 28)\n",
            "Test Dataset :(10000, 28, 28)\n",
            "Train Label :(60000,)\n",
            "Test Label :(10000,)\n"
          ]
        }
      ]
    },
    {
      "cell_type": "code",
      "source": [
        "print(f\"trian image size: {train_x[0].shape}\") #train_x[0].shape\n"
      ],
      "metadata": {
        "colab": {
          "base_uri": "https://localhost:8080/"
        },
        "id": "kE9xd0s6Pw06",
        "outputId": "14206a3f-56f4-448c-f772-9aaad07df7b0"
      },
      "execution_count": null,
      "outputs": [
        {
          "output_type": "stream",
          "name": "stdout",
          "text": [
            "image size: (28, 28)\n"
          ]
        }
      ]
    },
    {
      "cell_type": "code",
      "source": [
        "# Plot the image\n",
        "plt.imshow(train_x[5])\n",
        "plt.title(f'Label: {train_y[5]}')\n",
        "plt.axis('off')  # Optionally turn off the axis\n",
        "plt.show()"
      ],
      "metadata": {
        "colab": {
          "base_uri": "https://localhost:8080/",
          "height": 470
        },
        "id": "TfOqkFYQP_uk",
        "outputId": "1c080a80-6937-45a1-8fb3-21c14f9a0b7a"
      },
      "execution_count": null,
      "outputs": [
        {
          "output_type": "execute_result",
          "data": {
            "text/plain": [
              "Text(0.5, 1.0, 'Label: 2')"
            ]
          },
          "metadata": {},
          "execution_count": 15
        },
        {
          "output_type": "display_data",
          "data": {
            "text/plain": [
              "<Figure size 640x480 with 1 Axes>"
            ],
            "image/png": "[encoded data removed]"
          },
          "metadata": {}
        }
      ]
    },
    {
      "cell_type": "code",
      "source": [
        "# Normalizatoin\n",
        "X_train = train_x/255;\n",
        "X_test = test_x/255;"
      ],
      "metadata": {
        "id": "kBwX7bcXQZs-"
      },
      "execution_count": null,
      "outputs": []
    },
    {
      "cell_type": "code",
      "source": [
        "model=Sequential()\n",
        "# to flatten the 2d data into one dimension\n",
        "model.add(Flatten(input_shape=(28,28)))\n",
        "model.add(Dense(100,activation='relu'))  # hidden layer with 100 perceptron\n",
        "# model.add(Dense(100,activation='sigmoid'))  # hidden layer with 100 perceptron\n",
        "# model.add(Dense(100,activation='tanh'))  # hidden layer with 100 perceptron\n",
        "model.add(Dense(10,activation='softmax'))\n"
      ],
      "metadata": {
        "id": "44vOwe6jQ_IV"
      },
      "execution_count": null,
      "outputs": []
    },
    {
      "cell_type": "code",
      "source": [
        "model.summary()"
      ],
      "metadata": {
        "colab": {
          "base_uri": "https://localhost:8080/"
        },
        "id": "7U0FQYJTTDc3",
        "outputId": "3d6aa297-3db7-44c1-89d7-1897e6c44686"
      },
      "execution_count": null,
      "outputs": [
        {
          "output_type": "stream",
          "name": "stdout",
          "text": [
            "Model: \"sequential_1\"\n",
            "_________________________________________________________________\n",
            " Layer (type)                Output Shape              Param #   \n",
            "=================================================================\n",
            " flatten_1 (Flatten)         (None, 784)               0         \n",
            "                                                                 \n",
            " dense_4 (Dense)             (None, 100)               78500     \n",
            "                                                                 \n",
            " dense_5 (Dense)             (None, 10)                1010      \n",
            "                                                                 \n",
            "=================================================================\n",
            "Total params: 79510 (310.59 KB)\n",
            "Trainable params: 79510 (310.59 KB)\n",
            "Non-trainable params: 0 (0.00 Byte)\n",
            "_________________________________________________________________\n"
          ]
        }
      ]
    },
    {
      "cell_type": "code",
      "source": [
        "model.compile(loss='sparse_categorical_crossentropy', optimizer='Adam',metrics=['accuracy'])"
      ],
      "metadata": {
        "id": "7aJLY4eKTO_N"
      },
      "execution_count": null,
      "outputs": []
    },
    {
      "cell_type": "code",
      "source": [
        "history=model.fit(X_train,train_y,epochs=25,validation_split=0.2)"
      ],
      "metadata": {
        "colab": {
          "base_uri": "https://localhost:8080/"
        },
        "id": "QZC8OM0bpaH8",
        "outputId": "3a9bb5d7-f79b-4d23-85a6-f334bd1551be"
      },
      "execution_count": null,
      "outputs": [
        {
          "output_type": "stream",
          "name": "stdout",
          "text": [
            "Epoch 1/25\n",
            "1500/1500 [==============================] - 7s 4ms/step - loss: 0.3005 - accuracy: 0.9146 - val_loss: 0.1605 - val_accuracy: 0.9532\n",
            "Epoch 2/25\n",
            "1500/1500 [==============================] - 4s 3ms/step - loss: 0.1380 - accuracy: 0.9596 - val_loss: 0.1327 - val_accuracy: 0.9617\n",
            "Epoch 3/25\n",
            "1500/1500 [==============================] - 4s 3ms/step - loss: 0.0968 - accuracy: 0.9704 - val_loss: 0.1137 - val_accuracy: 0.9678\n",
            "Epoch 4/25\n",
            "1500/1500 [==============================] - 5s 3ms/step - loss: 0.0732 - accuracy: 0.9782 - val_loss: 0.1004 - val_accuracy: 0.9700\n",
            "Epoch 5/25\n",
            "1500/1500 [==============================] - 5s 3ms/step - loss: 0.0571 - accuracy: 0.9821 - val_loss: 0.0912 - val_accuracy: 0.9727\n",
            "Epoch 6/25\n",
            "1500/1500 [==============================] - 5s 3ms/step - loss: 0.0458 - accuracy: 0.9854 - val_loss: 0.0925 - val_accuracy: 0.9732\n",
            "Epoch 7/25\n",
            "1500/1500 [==============================] - 4s 3ms/step - loss: 0.0371 - accuracy: 0.9893 - val_loss: 0.0897 - val_accuracy: 0.9748\n",
            "Epoch 8/25\n",
            "1500/1500 [==============================] - 4s 3ms/step - loss: 0.0294 - accuracy: 0.9912 - val_loss: 0.0921 - val_accuracy: 0.9749\n",
            "Epoch 9/25\n",
            "1500/1500 [==============================] - 5s 3ms/step - loss: 0.0248 - accuracy: 0.9923 - val_loss: 0.1057 - val_accuracy: 0.9722\n",
            "Epoch 10/25\n",
            "1500/1500 [==============================] - 4s 3ms/step - loss: 0.0189 - accuracy: 0.9944 - val_loss: 0.0935 - val_accuracy: 0.9774\n",
            "Epoch 11/25\n",
            "1500/1500 [==============================] - 4s 3ms/step - loss: 0.0168 - accuracy: 0.9950 - val_loss: 0.1030 - val_accuracy: 0.9752\n",
            "Epoch 12/25\n",
            "1500/1500 [==============================] - 5s 3ms/step - loss: 0.0158 - accuracy: 0.9952 - val_loss: 0.0941 - val_accuracy: 0.9779\n",
            "Epoch 13/25\n",
            "1500/1500 [==============================] - 4s 3ms/step - loss: 0.0113 - accuracy: 0.9969 - val_loss: 0.1129 - val_accuracy: 0.9743\n",
            "Epoch 14/25\n",
            "1500/1500 [==============================] - 5s 3ms/step - loss: 0.0103 - accuracy: 0.9970 - val_loss: 0.1064 - val_accuracy: 0.9766\n",
            "Epoch 15/25\n",
            "1500/1500 [==============================] - 5s 3ms/step - loss: 0.0099 - accuracy: 0.9969 - val_loss: 0.1063 - val_accuracy: 0.9771\n",
            "Epoch 16/25\n",
            "1500/1500 [==============================] - 4s 3ms/step - loss: 0.0060 - accuracy: 0.9987 - val_loss: 0.1136 - val_accuracy: 0.9758\n",
            "Epoch 17/25\n",
            "1500/1500 [==============================] - 5s 4ms/step - loss: 0.0077 - accuracy: 0.9977 - val_loss: 0.1098 - val_accuracy: 0.9774\n",
            "Epoch 18/25\n",
            "1500/1500 [==============================] - 4s 3ms/step - loss: 0.0079 - accuracy: 0.9975 - val_loss: 0.1238 - val_accuracy: 0.9756\n",
            "Epoch 19/25\n",
            "1500/1500 [==============================] - 4s 3ms/step - loss: 0.0051 - accuracy: 0.9986 - val_loss: 0.1166 - val_accuracy: 0.9770\n",
            "Epoch 20/25\n",
            "1500/1500 [==============================] - 5s 4ms/step - loss: 0.0052 - accuracy: 0.9985 - val_loss: 0.1433 - val_accuracy: 0.9694\n",
            "Epoch 21/25\n",
            "1500/1500 [==============================] - 4s 3ms/step - loss: 0.0055 - accuracy: 0.9983 - val_loss: 0.1336 - val_accuracy: 0.9745\n",
            "Epoch 22/25\n",
            "1500/1500 [==============================] - 5s 3ms/step - loss: 0.0067 - accuracy: 0.9979 - val_loss: 0.1349 - val_accuracy: 0.9752\n",
            "Epoch 23/25\n",
            "1500/1500 [==============================] - 5s 3ms/step - loss: 0.0031 - accuracy: 0.9993 - val_loss: 0.1297 - val_accuracy: 0.9763\n",
            "Epoch 24/25\n",
            "1500/1500 [==============================] - 4s 3ms/step - loss: 0.0057 - accuracy: 0.9983 - val_loss: 0.1261 - val_accuracy: 0.9771\n",
            "Epoch 25/25\n",
            "1500/1500 [==============================] - 5s 4ms/step - loss: 0.0025 - accuracy: 0.9995 - val_loss: 0.1475 - val_accuracy: 0.9740\n"
          ]
        }
      ]
    },
    {
      "cell_type": "code",
      "source": [
        "y_prob=model.predict(X_test)"
      ],
      "metadata": {
        "colab": {
          "base_uri": "https://localhost:8080/"
        },
        "id": "uRgDpXd2WSyN",
        "outputId": "4d1b4376-14e7-460a-f63a-47a6fd0a28f2"
      },
      "execution_count": null,
      "outputs": [
        {
          "output_type": "stream",
          "name": "stdout",
          "text": [
            "313/313 [==============================] - 0s 1ms/step\n"
          ]
        }
      ]
    },
    {
      "cell_type": "code",
      "source": [
        "y_prob.shape"
      ],
      "metadata": {
        "colab": {
          "base_uri": "https://localhost:8080/"
        },
        "id": "T91Rp5AgqVZ1",
        "outputId": "511488c6-8b55-4f73-b420-f2429d62c397"
      },
      "execution_count": null,
      "outputs": [
        {
          "output_type": "execute_result",
          "data": {
            "text/plain": [
              "(10000, 10)"
            ]
          },
          "metadata": {},
          "execution_count": 36
        }
      ]
    },
    {
      "cell_type": "code",
      "source": [
        "y_predict=y_prob.argmax(axis=1)"
      ],
      "metadata": {
        "id": "gLeHeRUGWsFD"
      },
      "execution_count": null,
      "outputs": []
    },
    {
      "cell_type": "code",
      "source": [
        "#  print top 10 result\n",
        "for i in range(len(test_y[:10])):\n",
        "    print(f\"Actual: {test_y[i]} and Predicted: {y_predict[i]}\")"
      ],
      "metadata": {
        "colab": {
          "base_uri": "https://localhost:8080/"
        },
        "id": "6k7t6EQmqi5N",
        "outputId": "595b0f60-aba7-4a0e-c2d0-ea48aadf504d"
      },
      "execution_count": null,
      "outputs": [
        {
          "output_type": "stream",
          "name": "stdout",
          "text": [
            "Actual: 7 and Predicted: 7\n",
            "Actual: 2 and Predicted: 2\n",
            "Actual: 1 and Predicted: 1\n",
            "Actual: 0 and Predicted: 0\n",
            "Actual: 4 and Predicted: 4\n",
            "Actual: 1 and Predicted: 1\n",
            "Actual: 4 and Predicted: 4\n",
            "Actual: 9 and Predicted: 9\n",
            "Actual: 5 and Predicted: 5\n",
            "Actual: 9 and Predicted: 9\n"
          ]
        }
      ]
    },
    {
      "cell_type": "code",
      "source": [
        "from sklearn.metrics import accuracy_score\n",
        "from sklearn.metrics import confusion_matrix, ConfusionMatrixDisplay\n",
        "\n"
      ],
      "metadata": {
        "id": "Ez8tlnZQXJ3Q"
      },
      "execution_count": null,
      "outputs": []
    },
    {
      "cell_type": "code",
      "source": [
        "accuracy_score(test_y,y_predict)"
      ],
      "metadata": {
        "colab": {
          "base_uri": "https://localhost:8080/"
        },
        "id": "lvGPGyFwtiM8",
        "outputId": "1d84b7e1-2170-425b-f42a-19acc48c5691"
      },
      "execution_count": null,
      "outputs": [
        {
          "output_type": "execute_result",
          "data": {
            "text/plain": [
              "0.9727"
            ]
          },
          "metadata": {},
          "execution_count": 40
        }
      ]
    },
    {
      "cell_type": "code",
      "source": [
        "# Compute the confusion matrix\n",
        "cm = confusion_matrix(test_y, y_predict)\n",
        "\n",
        "# Display the confusion matrix\n",
        "disp = ConfusionMatrixDisplay(confusion_matrix=cm, display_labels=np.arange(10))\n",
        "disp.plot(cmap=plt.cm.Blues)\n",
        "plt.show()"
      ],
      "metadata": {
        "colab": {
          "base_uri": "https://localhost:8080/",
          "height": 449
        },
        "id": "E7NqvigVqiCp",
        "outputId": "06931a98-4889-491f-8ad8-8e7f3a74f398"
      },
      "execution_count": null,
      "outputs": [
        {
          "output_type": "display_data",
          "data": {
            "text/plain": [
              "<Figure size 640x480 with 2 Axes>"
            ],
            "image/png": "[encoded data removed]"
          },
          "metadata": {}
        }
      ]
    },
    {
      "cell_type": "markdown",
      "source": [
        "graph of accuracy and loss"
      ],
      "metadata": {
        "id": "JiPX4vpmdPh3"
      }
    },
    {
      "cell_type": "code",
      "source": [
        "plt.plot(history.history['accuracy'])\n",
        "plt.plot(history.history['val_accuracy'])"
      ],
      "metadata": {
        "colab": {
          "base_uri": "https://localhost:8080/",
          "height": 447
        },
        "id": "DpR356CIXVoy",
        "outputId": "c4e57b72-c1f3-4b2e-ce17-9b1987c00fd2"
      },
      "execution_count": null,
      "outputs": [
        {
          "output_type": "execute_result",
          "data": {
            "text/plain": [
              "[<matplotlib.lines.Line2D at 0x7fbc80158a00>]"
            ]
          },
          "metadata": {},
          "execution_count": 83
        },
        {
          "output_type": "display_data",
          "data": {
            "text/plain": [
              "<Figure size 640x480 with 1 Axes>"
            ],
            "image/png": "[encoded data removed]"
          },
          "metadata": {}
        }
      ]
    },
    {
      "cell_type": "code",
      "source": [
        "\n",
        "plt.imshow(X_test[0])\n",
        "plt.title(f'Label: {y_predict[0]}')\n",
        "plt.axis('off')  # Optionally turn off the axis\n",
        "plt.show()"
      ],
      "metadata": {
        "colab": {
          "base_uri": "https://localhost:8080/",
          "height": 428
        },
        "id": "I5wxcyFobKcT",
        "outputId": "a7bf2bc8-b2a1-4340-9608-3faa6241900a"
      },
      "execution_count": null,
      "outputs": [
        {
          "output_type": "display_data",
          "data": {
            "text/plain": [
              "<Figure size 640x480 with 1 Axes>"
            ],
            "image/png": "[encoded data removed]"
          },
          "metadata": {}
        }
      ]
    },
    {
      "cell_type": "code",
      "source": [
        "# predicted value by model\n",
        "model.predict(X_test[0].reshape(1,28,28)).argmax(axis=1)"
      ],
      "metadata": {
        "colab": {
          "base_uri": "https://localhost:8080/"
        },
        "id": "rm10UhVAbw_x",
        "outputId": "26015b86-76b2-4dbb-9cfd-fd3a2022a417"
      },
      "execution_count": null,
      "outputs": [
        {
          "output_type": "stream",
          "name": "stdout",
          "text": [
            "1/1 [==============================] - 0s 45ms/step\n"
          ]
        },
        {
          "output_type": "execute_result",
          "data": {
            "text/plain": [
              "array([7])"
            ]
          },
          "metadata": {},
          "execution_count": 44
        }
      ]
    },
    {
      "cell_type": "code",
      "source": [],
      "metadata": {
        "id": "bqYBTYlXcv-H"
      },
      "execution_count": null,
      "outputs": []
    }
  ]
}